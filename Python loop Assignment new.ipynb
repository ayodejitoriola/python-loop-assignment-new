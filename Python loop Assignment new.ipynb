{
 "cells": [
  {
   "cell_type": "code",
   "execution_count": 12,
   "id": "5f6cbd97",
   "metadata": {},
   "outputs": [
    {
     "data": {
      "text/plain": [
       "[2, 6, 9, 9, 15, 19]"
      ]
     },
     "execution_count": 12,
     "metadata": {},
     "output_type": "execute_result"
    }
   ],
   "source": [
    "#Question1: Write a program using the following list and sort it based on the sum of the values of the tuples of the list:\n",
    "#[(1,5),(9,0),(12,3),(5,4),(13,6),(1,1)]\n",
    "#sum up the values of the tuples\n",
    "#sort by sum\n",
    "List1=[(1,5),(9,0),(12,3),(5,4),(13,6),(1,1)]\n",
    "sum1=[]\n",
    "for i in List1:\n",
    "    a=i[0]+i[1]\n",
    "    sum1.append(a)\n",
    "answer=sorted(sum1)\n",
    "answer"
   ]
  },
  {
   "cell_type": "code",
   "execution_count": 9,
   "id": "95ee09f0",
   "metadata": {},
   "outputs": [
    {
     "data": {
      "text/plain": [
       "{10: 400, 20: 300, 30: 200, 40: 100}"
      ]
     },
     "execution_count": 9,
     "metadata": {},
     "output_type": "execute_result"
    }
   ],
   "source": [
    "#QUESTION 2:Given a two Python list. Iterate both lists simultaneously such that list1 should display item in original order\n",
    "#and list2 in reverse order:\n",
    "#list1 = [10, 20, 30, 40], list2 = [100, 200, 300, 400]\n",
    "list1 = [10, 20, 30, 40]\n",
    "list2 = [100, 200, 300, 400]\n",
    "#Reverse list2\n",
    "#Use Zip function for items making L1 the Key\n",
    "list2.reverse() \n",
    "list2\n",
    "answer=[]\n",
    "answer= dict(zip(list1,list2))\n",
    "answer"
   ]
  },
  {
   "cell_type": "code",
   "execution_count": 10,
   "id": "0c8a19d8",
   "metadata": {},
   "outputs": [
    {
     "name": "stdout",
     "output_type": "stream",
     "text": [
      "enter a number2\n",
      "Even\n"
     ]
    }
   ],
   "source": [
    "#Question 3:Given number 1 through 10, write a program to display \"Even\" for even numbers and \"Odd\" for odd numbers.\n",
    "#Get the range\n",
    "#Input the number\n",
    "#Conditional statement\n",
    "l1 = range(1,11)\n",
    "[x for x in l1 ]\n",
    "x=float(input('enter a number'))\n",
    "if x%2==0:\n",
    "    print ('Even')\n",
    "else:\n",
    "    print ('Odd')"
   ]
  },
  {
   "cell_type": "code",
   "execution_count": 24,
   "id": "e95862b4",
   "metadata": {},
   "outputs": [
    {
     "name": "stdout",
     "output_type": "stream",
     "text": [
      "4\n"
     ]
    }
   ],
   "source": [
    "#Question4:Write a Python program to count the number of strings where the string length is 2 or more and \n",
    "#the first and last character are same from a given list of strings:\n",
    "#- ['abc', 'xyz', 'aba', '1221', 'bhgsskknb', 'aa', 'd'] \n",
    "def match_words(words):\n",
    "  ctr = 0\n",
    "\n",
    "  for word in words:\n",
    "    if len(word) > 1 and word[0] == word[-1]:\n",
    "      ctr += 1\n",
    "  return ctr\n",
    "\n",
    "print(match_words(['abc', 'xyz', 'aba', '1221', 'bhgsskknb', 'aa', 'd']))\n",
    "\n"
   ]
  },
  {
   "cell_type": "code",
   "execution_count": 6,
   "id": "61b0ab28",
   "metadata": {},
   "outputs": [
    {
     "name": "stdout",
     "output_type": "stream",
     "text": [
      "Enter a number: 4\n",
      "Enter a number: 3\n",
      "Enter a number: 5\n",
      "Enter a number: 7\n",
      "Enter a number: 10\n",
      "Addition = 29\n",
      "Average =  5.8\n"
     ]
    }
   ],
   "source": [
    "#Question5:Write a program to collect 5 different numbers from a user and display the average of the five numbers without storing \n",
    "#the values collected at any point.\n",
    "N1 = int(input('Enter a number: '))\n",
    "N2 = int(input('Enter a number: '))\n",
    "N3= int(input('Enter a number: '))\n",
    "N4= int(input('Enter a number: '))\n",
    "N5 = int(input('Enter a number: '))\n",
    "Total = N1+N2+N3+N4+N5\n",
    "print('Addition =',Total)\n",
    "average = Total /5\n",
    "print('Average = ', average)"
   ]
  },
  {
   "cell_type": "code",
   "execution_count": 7,
   "id": "70a8993a",
   "metadata": {},
   "outputs": [
    {
     "data": {
      "text/plain": [
       "{1: 'a', 2: 'b', 3: 'c', 4: 'd', 5: 'e'}"
      ]
     },
     "execution_count": 7,
     "metadata": {},
     "output_type": "execute_result"
    }
   ],
   "source": [
    "#Question6:write a program such that \"list1\" will act as keys while \"list2\" will act as the values of the dictionary:\n",
    "#list1 = [1, 2, 3, 4, 5], list2 = [\"a\", \"b\", \"c\",\"d\", \"e\"] \n",
    "list1 = [1, 2, 3, 4, 5]\n",
    "list2 = [\"a\", \"b\", \"c\",\"d\", \"e\"]\n",
    "answer2= dict(zip(list1,list2))\n",
    "answer2"
   ]
  },
  {
   "cell_type": "code",
   "execution_count": null,
   "id": "5094e0f9",
   "metadata": {},
   "outputs": [],
   "source": []
  }
 ],
 "metadata": {
  "kernelspec": {
   "display_name": "Python 3 (ipykernel)",
   "language": "python",
   "name": "python3"
  },
  "language_info": {
   "codemirror_mode": {
    "name": "ipython",
    "version": 3
   },
   "file_extension": ".py",
   "mimetype": "text/x-python",
   "name": "python",
   "nbconvert_exporter": "python",
   "pygments_lexer": "ipython3",
   "version": "3.9.12"
  }
 },
 "nbformat": 4,
 "nbformat_minor": 5
}
